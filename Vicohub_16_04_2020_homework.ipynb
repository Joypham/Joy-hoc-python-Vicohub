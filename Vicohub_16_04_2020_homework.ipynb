{
 "cells": [
  {
   "cell_type": "code",
   "execution_count": 44,
   "metadata": {},
   "outputs": [
    {
     "name": "stdout",
     "output_type": "stream",
     "text": [
      "Joy ra: keo\n",
      "Meo_beo ra keo\n",
      "Hoa\n"
     ]
    }
   ],
   "source": [
    "import random\n",
    "\n",
    "Joy_think= input('Joy ra: ')\n",
    "\n",
    "black_box = [\"xoe\",\"keo\",\"bua\"]\n",
    "meo_beo = random.choice(black_box)\n",
    "\n",
    "print(\"Meo_beo ra\",meo_beo)\n",
    "\n",
    "\n",
    "if Joy_think == \"xoe\":\n",
    "    if meo_beo == \"xoe\":\n",
    "        print(\"Hoa\")\n",
    "    elif meo_beo == \"bua\":\n",
    "        print (\"Meo_beo thua\")\n",
    "    else:     \n",
    "        print (\"Meo_beo thang\")\n",
    "                 \n",
    "elif Joy_think == \"keo\":\n",
    "    if meo_beo == \"xoe\":\n",
    "        print(\"Meo_beo thua\")\n",
    "    elif meo_beo == \"bua\":\n",
    "        print (\"Meo_beo thang\")\n",
    "    else:     \n",
    "        print (\"Hoa\")\n",
    "\n",
    "else :\n",
    "    if meo_beo == \"xoe\":\n",
    "        print(\"Meo_beo thang\")\n",
    "    elif meo_beo == \"bua\":\n",
    "        print (\"Hoa\")\n",
    "    else:     \n",
    "        print (\"Meo_beo thua\")\n",
    "        \n",
    "                 \n",
    "        \n",
    "\n",
    " "
   ]
  },
  {
   "cell_type": "code",
   "execution_count": null,
   "metadata": {},
   "outputs": [],
   "source": []
  },
  {
   "cell_type": "code",
   "execution_count": null,
   "metadata": {},
   "outputs": [],
   "source": []
  },
  {
   "cell_type": "code",
   "execution_count": null,
   "metadata": {},
   "outputs": [],
   "source": []
  },
  {
   "cell_type": "code",
   "execution_count": null,
   "metadata": {},
   "outputs": [],
   "source": []
  }
 ],
 "metadata": {
  "kernelspec": {
   "display_name": "Python 3",
   "language": "python",
   "name": "python3"
  },
  "language_info": {
   "codemirror_mode": {
    "name": "ipython",
    "version": 3
   },
   "file_extension": ".py",
   "mimetype": "text/x-python",
   "name": "python",
   "nbconvert_exporter": "python",
   "pygments_lexer": "ipython3",
   "version": "3.7.4"
  }
 },
 "nbformat": 4,
 "nbformat_minor": 2
}
